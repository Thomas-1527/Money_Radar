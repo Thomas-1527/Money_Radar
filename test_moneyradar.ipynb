{
  "cells": [
    {
      "cell_type": "markdown",
      "metadata": {
        "id": "view-in-github",
        "colab_type": "text"
      },
      "source": [
        "<a href=\"https://colab.research.google.com/github/Thomas-1527/Money_Radar/blob/master/test_moneyradar.ipynb\" target=\"_parent\"><img src=\"https://colab.research.google.com/assets/colab-badge.svg\" alt=\"Open In Colab\"/></a>"
      ]
    },
    {
      "cell_type": "code",
      "execution_count": 2,
      "metadata": {
        "id": "8JRA62Bual3V"
      },
      "outputs": [],
      "source": [
        "import pandas as pd\n",
        "df=pd.read_csv('/content/drive/MyDrive/Moneyradar/nvidia_gold_bitcoin.csv')"
      ]
    },
    {
      "cell_type": "code",
      "execution_count": 3,
      "metadata": {
        "colab": {
          "base_uri": "https://localhost:8080/"
        },
        "id": "-G_I8u50a-1Z",
        "outputId": "a331bc80-b5ec-4eb5-cd90-8821ec63ba50"
      },
      "outputs": [
        {
          "output_type": "stream",
          "name": "stdout",
          "text": [
            "<class 'pandas.core.frame.DataFrame'>\n",
            "RangeIndex: 1597 entries, 0 to 1596\n",
            "Data columns (total 4 columns):\n",
            " #   Column             Non-Null Count  Dtype  \n",
            "---  ------             --------------  -----  \n",
            " 0   Date               1597 non-null   object \n",
            " 1   Rendement_Bitcoin  1597 non-null   float64\n",
            " 2   Rendement_gold     1139 non-null   float64\n",
            " 3   Rendement_nvidia   1099 non-null   float64\n",
            "dtypes: float64(3), object(1)\n",
            "memory usage: 50.0+ KB\n"
          ]
        }
      ],
      "source": [
        "df.info()"
      ]
    },
    {
      "cell_type": "code",
      "execution_count": 4,
      "metadata": {
        "id": "g1oHYazobBrK"
      },
      "outputs": [],
      "source": [
        "df['Date']=pd.to_datetime(df.Date)"
      ]
    },
    {
      "cell_type": "code",
      "execution_count": 5,
      "metadata": {
        "id": "a08SS8HrbpmZ"
      },
      "outputs": [],
      "source": [
        "df=df.fillna(method='backfill')\n",
        "df=df.fillna(method='ffill')"
      ]
    },
    {
      "cell_type": "code",
      "execution_count": 6,
      "metadata": {
        "id": "UlgyJJM3fQvw"
      },
      "outputs": [],
      "source": [
        "rendement_columns = ['Rendement_Bitcoin', 'Rendement_gold', 'Rendement_nvidia']\n",
        "df[rendement_columns] = df[rendement_columns] - 100"
      ]
    },
    {
      "cell_type": "code",
      "execution_count": 7,
      "metadata": {
        "colab": {
          "base_uri": "https://localhost:8080/",
          "height": 206
        },
        "id": "XXuIHFMVcRYn",
        "outputId": "dc3869ab-fd58-422d-f387-ae3e8c559ed4"
      },
      "outputs": [
        {
          "output_type": "execute_result",
          "data": {
            "text/plain": [
              "           Date  Rendement_Bitcoin  Rendement_gold  Rendement_nvidia\n",
              "1592 2024-05-11         744.837357       54.862247       1407.152384\n",
              "1593 2024-05-12         753.912609       54.862247       1407.152384\n",
              "1594 2024-05-13         774.152060       53.327662       1407.152384\n",
              "1595 2024-05-14         755.154310       54.433610       1423.107703\n",
              "1596 2024-05-15         761.164199       54.885151       1423.107703"
            ],
            "text/html": [
              "\n",
              "  <div id=\"df-f59a87c7-1cde-4580-b857-68d4bc2e27bd\" class=\"colab-df-container\">\n",
              "    <div>\n",
              "<style scoped>\n",
              "    .dataframe tbody tr th:only-of-type {\n",
              "        vertical-align: middle;\n",
              "    }\n",
              "\n",
              "    .dataframe tbody tr th {\n",
              "        vertical-align: top;\n",
              "    }\n",
              "\n",
              "    .dataframe thead th {\n",
              "        text-align: right;\n",
              "    }\n",
              "</style>\n",
              "<table border=\"1\" class=\"dataframe\">\n",
              "  <thead>\n",
              "    <tr style=\"text-align: right;\">\n",
              "      <th></th>\n",
              "      <th>Date</th>\n",
              "      <th>Rendement_Bitcoin</th>\n",
              "      <th>Rendement_gold</th>\n",
              "      <th>Rendement_nvidia</th>\n",
              "    </tr>\n",
              "  </thead>\n",
              "  <tbody>\n",
              "    <tr>\n",
              "      <th>1592</th>\n",
              "      <td>2024-05-11</td>\n",
              "      <td>744.837357</td>\n",
              "      <td>54.862247</td>\n",
              "      <td>1407.152384</td>\n",
              "    </tr>\n",
              "    <tr>\n",
              "      <th>1593</th>\n",
              "      <td>2024-05-12</td>\n",
              "      <td>753.912609</td>\n",
              "      <td>54.862247</td>\n",
              "      <td>1407.152384</td>\n",
              "    </tr>\n",
              "    <tr>\n",
              "      <th>1594</th>\n",
              "      <td>2024-05-13</td>\n",
              "      <td>774.152060</td>\n",
              "      <td>53.327662</td>\n",
              "      <td>1407.152384</td>\n",
              "    </tr>\n",
              "    <tr>\n",
              "      <th>1595</th>\n",
              "      <td>2024-05-14</td>\n",
              "      <td>755.154310</td>\n",
              "      <td>54.433610</td>\n",
              "      <td>1423.107703</td>\n",
              "    </tr>\n",
              "    <tr>\n",
              "      <th>1596</th>\n",
              "      <td>2024-05-15</td>\n",
              "      <td>761.164199</td>\n",
              "      <td>54.885151</td>\n",
              "      <td>1423.107703</td>\n",
              "    </tr>\n",
              "  </tbody>\n",
              "</table>\n",
              "</div>\n",
              "    <div class=\"colab-df-buttons\">\n",
              "\n",
              "  <div class=\"colab-df-container\">\n",
              "    <button class=\"colab-df-convert\" onclick=\"convertToInteractive('df-f59a87c7-1cde-4580-b857-68d4bc2e27bd')\"\n",
              "            title=\"Convert this dataframe to an interactive table.\"\n",
              "            style=\"display:none;\">\n",
              "\n",
              "  <svg xmlns=\"http://www.w3.org/2000/svg\" height=\"24px\" viewBox=\"0 -960 960 960\">\n",
              "    <path d=\"M120-120v-720h720v720H120Zm60-500h600v-160H180v160Zm220 220h160v-160H400v160Zm0 220h160v-160H400v160ZM180-400h160v-160H180v160Zm440 0h160v-160H620v160ZM180-180h160v-160H180v160Zm440 0h160v-160H620v160Z\"/>\n",
              "  </svg>\n",
              "    </button>\n",
              "\n",
              "  <style>\n",
              "    .colab-df-container {\n",
              "      display:flex;\n",
              "      gap: 12px;\n",
              "    }\n",
              "\n",
              "    .colab-df-convert {\n",
              "      background-color: #E8F0FE;\n",
              "      border: none;\n",
              "      border-radius: 50%;\n",
              "      cursor: pointer;\n",
              "      display: none;\n",
              "      fill: #1967D2;\n",
              "      height: 32px;\n",
              "      padding: 0 0 0 0;\n",
              "      width: 32px;\n",
              "    }\n",
              "\n",
              "    .colab-df-convert:hover {\n",
              "      background-color: #E2EBFA;\n",
              "      box-shadow: 0px 1px 2px rgba(60, 64, 67, 0.3), 0px 1px 3px 1px rgba(60, 64, 67, 0.15);\n",
              "      fill: #174EA6;\n",
              "    }\n",
              "\n",
              "    .colab-df-buttons div {\n",
              "      margin-bottom: 4px;\n",
              "    }\n",
              "\n",
              "    [theme=dark] .colab-df-convert {\n",
              "      background-color: #3B4455;\n",
              "      fill: #D2E3FC;\n",
              "    }\n",
              "\n",
              "    [theme=dark] .colab-df-convert:hover {\n",
              "      background-color: #434B5C;\n",
              "      box-shadow: 0px 1px 3px 1px rgba(0, 0, 0, 0.15);\n",
              "      filter: drop-shadow(0px 1px 2px rgba(0, 0, 0, 0.3));\n",
              "      fill: #FFFFFF;\n",
              "    }\n",
              "  </style>\n",
              "\n",
              "    <script>\n",
              "      const buttonEl =\n",
              "        document.querySelector('#df-f59a87c7-1cde-4580-b857-68d4bc2e27bd button.colab-df-convert');\n",
              "      buttonEl.style.display =\n",
              "        google.colab.kernel.accessAllowed ? 'block' : 'none';\n",
              "\n",
              "      async function convertToInteractive(key) {\n",
              "        const element = document.querySelector('#df-f59a87c7-1cde-4580-b857-68d4bc2e27bd');\n",
              "        const dataTable =\n",
              "          await google.colab.kernel.invokeFunction('convertToInteractive',\n",
              "                                                    [key], {});\n",
              "        if (!dataTable) return;\n",
              "\n",
              "        const docLinkHtml = 'Like what you see? Visit the ' +\n",
              "          '<a target=\"_blank\" href=https://colab.research.google.com/notebooks/data_table.ipynb>data table notebook</a>'\n",
              "          + ' to learn more about interactive tables.';\n",
              "        element.innerHTML = '';\n",
              "        dataTable['output_type'] = 'display_data';\n",
              "        await google.colab.output.renderOutput(dataTable, element);\n",
              "        const docLink = document.createElement('div');\n",
              "        docLink.innerHTML = docLinkHtml;\n",
              "        element.appendChild(docLink);\n",
              "      }\n",
              "    </script>\n",
              "  </div>\n",
              "\n",
              "\n",
              "<div id=\"df-42d36c98-dd44-4bc7-b72a-9e7b78e02eb4\">\n",
              "  <button class=\"colab-df-quickchart\" onclick=\"quickchart('df-42d36c98-dd44-4bc7-b72a-9e7b78e02eb4')\"\n",
              "            title=\"Suggest charts\"\n",
              "            style=\"display:none;\">\n",
              "\n",
              "<svg xmlns=\"http://www.w3.org/2000/svg\" height=\"24px\"viewBox=\"0 0 24 24\"\n",
              "     width=\"24px\">\n",
              "    <g>\n",
              "        <path d=\"M19 3H5c-1.1 0-2 .9-2 2v14c0 1.1.9 2 2 2h14c1.1 0 2-.9 2-2V5c0-1.1-.9-2-2-2zM9 17H7v-7h2v7zm4 0h-2V7h2v10zm4 0h-2v-4h2v4z\"/>\n",
              "    </g>\n",
              "</svg>\n",
              "  </button>\n",
              "\n",
              "<style>\n",
              "  .colab-df-quickchart {\n",
              "      --bg-color: #E8F0FE;\n",
              "      --fill-color: #1967D2;\n",
              "      --hover-bg-color: #E2EBFA;\n",
              "      --hover-fill-color: #174EA6;\n",
              "      --disabled-fill-color: #AAA;\n",
              "      --disabled-bg-color: #DDD;\n",
              "  }\n",
              "\n",
              "  [theme=dark] .colab-df-quickchart {\n",
              "      --bg-color: #3B4455;\n",
              "      --fill-color: #D2E3FC;\n",
              "      --hover-bg-color: #434B5C;\n",
              "      --hover-fill-color: #FFFFFF;\n",
              "      --disabled-bg-color: #3B4455;\n",
              "      --disabled-fill-color: #666;\n",
              "  }\n",
              "\n",
              "  .colab-df-quickchart {\n",
              "    background-color: var(--bg-color);\n",
              "    border: none;\n",
              "    border-radius: 50%;\n",
              "    cursor: pointer;\n",
              "    display: none;\n",
              "    fill: var(--fill-color);\n",
              "    height: 32px;\n",
              "    padding: 0;\n",
              "    width: 32px;\n",
              "  }\n",
              "\n",
              "  .colab-df-quickchart:hover {\n",
              "    background-color: var(--hover-bg-color);\n",
              "    box-shadow: 0 1px 2px rgba(60, 64, 67, 0.3), 0 1px 3px 1px rgba(60, 64, 67, 0.15);\n",
              "    fill: var(--button-hover-fill-color);\n",
              "  }\n",
              "\n",
              "  .colab-df-quickchart-complete:disabled,\n",
              "  .colab-df-quickchart-complete:disabled:hover {\n",
              "    background-color: var(--disabled-bg-color);\n",
              "    fill: var(--disabled-fill-color);\n",
              "    box-shadow: none;\n",
              "  }\n",
              "\n",
              "  .colab-df-spinner {\n",
              "    border: 2px solid var(--fill-color);\n",
              "    border-color: transparent;\n",
              "    border-bottom-color: var(--fill-color);\n",
              "    animation:\n",
              "      spin 1s steps(1) infinite;\n",
              "  }\n",
              "\n",
              "  @keyframes spin {\n",
              "    0% {\n",
              "      border-color: transparent;\n",
              "      border-bottom-color: var(--fill-color);\n",
              "      border-left-color: var(--fill-color);\n",
              "    }\n",
              "    20% {\n",
              "      border-color: transparent;\n",
              "      border-left-color: var(--fill-color);\n",
              "      border-top-color: var(--fill-color);\n",
              "    }\n",
              "    30% {\n",
              "      border-color: transparent;\n",
              "      border-left-color: var(--fill-color);\n",
              "      border-top-color: var(--fill-color);\n",
              "      border-right-color: var(--fill-color);\n",
              "    }\n",
              "    40% {\n",
              "      border-color: transparent;\n",
              "      border-right-color: var(--fill-color);\n",
              "      border-top-color: var(--fill-color);\n",
              "    }\n",
              "    60% {\n",
              "      border-color: transparent;\n",
              "      border-right-color: var(--fill-color);\n",
              "    }\n",
              "    80% {\n",
              "      border-color: transparent;\n",
              "      border-right-color: var(--fill-color);\n",
              "      border-bottom-color: var(--fill-color);\n",
              "    }\n",
              "    90% {\n",
              "      border-color: transparent;\n",
              "      border-bottom-color: var(--fill-color);\n",
              "    }\n",
              "  }\n",
              "</style>\n",
              "\n",
              "  <script>\n",
              "    async function quickchart(key) {\n",
              "      const quickchartButtonEl =\n",
              "        document.querySelector('#' + key + ' button');\n",
              "      quickchartButtonEl.disabled = true;  // To prevent multiple clicks.\n",
              "      quickchartButtonEl.classList.add('colab-df-spinner');\n",
              "      try {\n",
              "        const charts = await google.colab.kernel.invokeFunction(\n",
              "            'suggestCharts', [key], {});\n",
              "      } catch (error) {\n",
              "        console.error('Error during call to suggestCharts:', error);\n",
              "      }\n",
              "      quickchartButtonEl.classList.remove('colab-df-spinner');\n",
              "      quickchartButtonEl.classList.add('colab-df-quickchart-complete');\n",
              "    }\n",
              "    (() => {\n",
              "      let quickchartButtonEl =\n",
              "        document.querySelector('#df-42d36c98-dd44-4bc7-b72a-9e7b78e02eb4 button');\n",
              "      quickchartButtonEl.style.display =\n",
              "        google.colab.kernel.accessAllowed ? 'block' : 'none';\n",
              "    })();\n",
              "  </script>\n",
              "</div>\n",
              "\n",
              "    </div>\n",
              "  </div>\n"
            ],
            "application/vnd.google.colaboratory.intrinsic+json": {
              "type": "dataframe",
              "summary": "{\n  \"name\": \"df\",\n  \"rows\": 5,\n  \"fields\": [\n    {\n      \"column\": \"Date\",\n      \"properties\": {\n        \"dtype\": \"date\",\n        \"min\": \"2024-05-11 00:00:00\",\n        \"max\": \"2024-05-15 00:00:00\",\n        \"num_unique_values\": 5,\n        \"samples\": [\n          \"2024-05-12 00:00:00\",\n          \"2024-05-15 00:00:00\",\n          \"2024-05-13 00:00:00\"\n        ],\n        \"semantic_type\": \"\",\n        \"description\": \"\"\n      }\n    },\n    {\n      \"column\": \"Rendement_Bitcoin\",\n      \"properties\": {\n        \"dtype\": \"number\",\n        \"std\": 10.826351863496127,\n        \"min\": 744.8373565932387,\n        \"max\": 774.1520597794382,\n        \"num_unique_values\": 5,\n        \"samples\": [\n          753.9126086835746,\n          761.164199005528,\n          774.1520597794382\n        ],\n        \"semantic_type\": \"\",\n        \"description\": \"\"\n      }\n    },\n    {\n      \"column\": \"Rendement_gold\",\n      \"properties\": {\n        \"dtype\": \"number\",\n        \"std\": 0.6682514124337013,\n        \"min\": 53.32766180223808,\n        \"max\": 54.885151495321,\n        \"num_unique_values\": 4,\n        \"samples\": [\n          53.32766180223808,\n          54.885151495321,\n          54.86224723512859\n        ],\n        \"semantic_type\": \"\",\n        \"description\": \"\"\n      }\n    },\n    {\n      \"column\": \"Rendement_nvidia\",\n      \"properties\": {\n        \"dtype\": \"number\",\n        \"std\": 8.739087821481155,\n        \"min\": 1407.1523841280427,\n        \"max\": 1423.1077025675224,\n        \"num_unique_values\": 2,\n        \"samples\": [\n          1423.1077025675224,\n          1407.1523841280427\n        ],\n        \"semantic_type\": \"\",\n        \"description\": \"\"\n      }\n    }\n  ]\n}"
            }
          },
          "metadata": {},
          "execution_count": 7
        }
      ],
      "source": [
        "df.tail()"
      ]
    },
    {
      "cell_type": "code",
      "execution_count": 8,
      "metadata": {
        "colab": {
          "base_uri": "https://localhost:8080/"
        },
        "id": "MH9Sx-jicehT",
        "outputId": "d48ae18e-b841-4d0c-8a62-5f012b702672"
      },
      "outputs": [
        {
          "output_type": "stream",
          "name": "stdout",
          "text": [
            "Empty DataFrame\n",
            "Columns: [Date, Rendement_Bitcoin, Rendement_gold, Rendement_nvidia]\n",
            "Index: []\n"
          ]
        }
      ],
      "source": [
        "print(df[df.Rendement_nvidia.isnull()])"
      ]
    },
    {
      "cell_type": "code",
      "execution_count": 9,
      "metadata": {
        "colab": {
          "base_uri": "https://localhost:8080/"
        },
        "id": "Xi1HwPi8B7JZ",
        "outputId": "4343c57d-4222-4a69-c7b6-a4aa75c30b66"
      },
      "outputs": [
        {
          "output_type": "stream",
          "name": "stdout",
          "text": [
            "Requirement already satisfied: plotly in /usr/local/lib/python3.10/dist-packages (5.15.0)\n",
            "Requirement already satisfied: tenacity>=6.2.0 in /usr/local/lib/python3.10/dist-packages (from plotly) (8.3.0)\n",
            "Requirement already satisfied: packaging in /usr/local/lib/python3.10/dist-packages (from plotly) (24.0)\n"
          ]
        }
      ],
      "source": [
        "!pip install plotly"
      ]
    },
    {
      "cell_type": "code",
      "execution_count": 9,
      "metadata": {
        "id": "1r11CQlje9hZ"
      },
      "outputs": [],
      "source": []
    },
    {
      "cell_type": "code",
      "execution_count": 9,
      "metadata": {
        "id": "6WdVJBVO-h7-"
      },
      "outputs": [],
      "source": []
    },
    {
      "cell_type": "code",
      "execution_count": 9,
      "metadata": {
        "id": "a3fTo-6EMfcG"
      },
      "outputs": [],
      "source": []
    },
    {
      "cell_type": "code",
      "source": [],
      "metadata": {
        "id": "LCMq5t6zQnUb"
      },
      "execution_count": 9,
      "outputs": []
    },
    {
      "cell_type": "code",
      "source": [],
      "metadata": {
        "id": "Sq_46jGbRZaI"
      },
      "execution_count": 9,
      "outputs": []
    },
    {
      "cell_type": "markdown",
      "source": [
        "V1"
      ],
      "metadata": {
        "id": "pE8PQr5PXuoW"
      }
    },
    {
      "cell_type": "code",
      "source": [
        "# from matplotlib.animation import FuncAnimation\n",
        "# from IPython.display import HTML\n",
        "# import matplotlib.pyplot as plt\n",
        "# import pandas as pd\n",
        "\n",
        "# # Assurez-vous d'avoir un DataFrame df avec les colonnes 'Date', 'Rendement_Bitcoin', 'Rendement_gold', et 'Rendement_nvidia'\n",
        "\n",
        "# # Préparer les données pour l'animation\n",
        "# x_data = df['Date']\n",
        "# y_data_bitcoin = df['Rendement_Bitcoin']\n",
        "# y_data_gold = df['Rendement_gold']\n",
        "# y_data_nvidia = df['Rendement_nvidia']\n",
        "\n",
        "# # Calculer la période de six mois\n",
        "# six_months = pd.Timedelta(days=30*6)\n",
        "# end_initial_period = x_data.min() + six_months\n",
        "\n",
        "# # Créer la figure et les axes\n",
        "# fig, ax = plt.subplots(figsize=(10, 6))  # Ajuster la taille de la figure\n",
        "# line_bitcoin, = ax.plot([], [], label='Bitcoin', lw=2, color='#f7931a')  # Couleur Bitcoin (orange)\n",
        "# line_gold, = ax.plot([], [], label='Gold', lw=2, color='gold')  # Couleur Or\n",
        "# line_nvidia, = ax.plot([], [], label='Nvidia', lw=2, color='green')  # Couleur Nvidia (vert)\n",
        "\n",
        "# # Enlever les cadres en haut et à gauche\n",
        "# ax.spines['top'].set_visible(False)\n",
        "# ax.spines['right'].set_visible(False)\n",
        "\n",
        "# # Créer les cercles pour représenter les marqueurs\n",
        "# circle_bitcoin = plt.Circle((0, 0), 0.6, color='#f7931a', fill=True)  # Réduire la taille des cercles de moitié\n",
        "# circle_gold = plt.Circle((0, 0), 0.6, color='gold', fill=True)\n",
        "# circle_nvidia = plt.Circle((0, 0), 0.6, color='green', fill=True)\n",
        "\n",
        "# # Ajouter les cercles aux axes\n",
        "# ax.add_patch(circle_bitcoin)\n",
        "# ax.add_patch(circle_gold)\n",
        "# ax.add_patch(circle_nvidia)\n",
        "\n",
        "# # Créer les annotations de pourcentage (initialisées vides)\n",
        "# text_bitcoin = ax.text(0, 0, '', ha='left', va='center', color='#f7931a')  # Match color with line\n",
        "# text_gold = ax.text(0, 0, '', ha='left', va='center', color='gold')\n",
        "# text_nvidia = ax.text(0, 0, '', ha='left', va='center', color='green')\n",
        "\n",
        "# # Créer l'annotation pour la date\n",
        "# date_text = ax.text(0.02, 0.95, '', transform=ax.transAxes, ha='left', va='top', fontsize=12, color='black')\n",
        "\n",
        "# # Initialiser la fonction pour la configuration de l'animation\n",
        "# def init():\n",
        "#     line_bitcoin.set_data([], [])\n",
        "#     line_gold.set_data([], [])\n",
        "#     line_nvidia.set_data([], [])\n",
        "#     ax.set_xlim(x_data.min(), end_initial_period)  # Initialiser avec les six premiers mois\n",
        "#     ax.set_ylim(min(y_data_bitcoin.min(), y_data_gold.min(), y_data_nvidia.min()) - 1,\n",
        "#                 max(y_data_bitcoin.max(), y_data_gold.max(), y_data_nvidia.max()) + 1)\n",
        "#     date_text.set_text('')\n",
        "#     return line_bitcoin, line_gold, line_nvidia, circle_bitcoin, circle_gold, circle_nvidia, text_bitcoin, text_gold, text_nvidia, date_text\n",
        "\n",
        "# # Fonction pour mettre à jour l'animation\n",
        "# def update(frame):\n",
        "#     x = x_data[:frame]\n",
        "#     y_bitcoin = y_data_bitcoin[:frame]\n",
        "#     y_gold = y_data_gold[:frame]\n",
        "#     y_nvidia = y_data_nvidia[:frame]\n",
        "\n",
        "#     line_bitcoin.set_data(x, y_bitcoin)\n",
        "#     line_gold.set_data(x, y_gold)\n",
        "#     line_nvidia.set_data(x, y_nvidia)\n",
        "\n",
        "#     if frame > 0:\n",
        "#         circle_bitcoin.set_center((x[frame - 1], y_bitcoin[frame - 1]))\n",
        "#         circle_gold.set_center((x[frame - 1], y_gold[frame - 1]))\n",
        "#         circle_nvidia.set_center((x[frame - 1], y_nvidia[frame - 1]))\n",
        "\n",
        "#         # Mettre à jour les annotations de valeurs à droite des cercles\n",
        "#         text_bitcoin.set_position((x[frame - 1] + pd.Timedelta(days=5), y_bitcoin[frame - 1]))\n",
        "#         text_gold.set_position((x[frame - 1] + pd.Timedelta(days=5), y_gold[frame - 1]))\n",
        "#         text_nvidia.set_position((x[frame - 1] + pd.Timedelta(days=5), y_nvidia[frame - 1]))\n",
        "\n",
        "#         text_bitcoin.set_text(f'Bitcoin {y_bitcoin[frame-1]:.2f}%')\n",
        "#         text_gold.set_text(f'Or {y_gold[frame-1]:.2f}%')\n",
        "#         text_nvidia.set_text(f'Nvidia {y_nvidia[frame-1]:.2f}%')\n",
        "\n",
        "#     # Mettre à jour le texte de la date\n",
        "#     if len(x) > 0:\n",
        "#         date_text.set_text(f'Date: {x[frame - 1].strftime(\"%Y-%m-%d\")}')\n",
        "#         if x[frame - 1] > end_initial_period:\n",
        "#             ax.set_xlim(x_data.min(), x_data[:frame].max() + pd.Timedelta(days=30))  # Ajouter une marge à droite après les six premiers mois\n",
        "#         ax.set_ylim(min(y_bitcoin.min(), y_gold.min(), y_nvidia.min()) - 1,\n",
        "#                     max(y_bitcoin.max(), y_gold.max(), y_nvidia.max()) + 1)\n",
        "#     return line_bitcoin, line_gold, line_nvidia, circle_bitcoin, circle_gold, circle_nvidia, text_bitcoin, text_gold, text_nvidia, date_text\n",
        "\n",
        "# # Créer l'animation avec des ajustements supplémentaires pour la fluidité\n",
        "# ani = FuncAnimation(fig, update, frames=len(x_data), init_func=init, blit=True, interval=10, repeat=False)\n",
        "\n",
        "# # Enregistrer l'animation en tant que fichier vidéo\n",
        "# ani.save('rendements.mp4', writer='ffmpeg')\n",
        "\n",
        "# # Afficher l'animation dans le notebook\n",
        "# HTML('<video controls src=\"rendements.mp4\" type=\"video/mp4\">')\n"
      ],
      "metadata": {
        "id": "sWTu2VrtSK_d"
      },
      "execution_count": 10,
      "outputs": []
    },
    {
      "cell_type": "markdown",
      "source": [
        "**TEST**"
      ],
      "metadata": {
        "id": "m4XsZkCKAsXD"
      }
    },
    {
      "cell_type": "code",
      "execution_count": 15,
      "metadata": {
        "id": "iaKavLenh6I6",
        "colab": {
          "base_uri": "https://localhost:8080/",
          "height": 676,
          "resources": {
            "http://localhost:8080/rendements.mp4": {
              "data": "CjwhRE9DVFlQRSBodG1sPgo8aHRtbCBsYW5nPWVuPgogIDxtZXRhIGNoYXJzZXQ9dXRmLTg+CiAgPG1ldGEgbmFtZT12aWV3cG9ydCBjb250ZW50PSJpbml0aWFsLXNjYWxlPTEsIG1pbmltdW0tc2NhbGU9MSwgd2lkdGg9ZGV2aWNlLXdpZHRoIj4KICA8dGl0bGU+RXJyb3IgNDA0IChOb3QgRm91bmQpISExPC90aXRsZT4KICA8c3R5bGU+CiAgICAqe21hcmdpbjowO3BhZGRpbmc6MH1odG1sLGNvZGV7Zm9udDoxNXB4LzIycHggYXJpYWwsc2Fucy1zZXJpZn1odG1se2JhY2tncm91bmQ6I2ZmZjtjb2xvcjojMjIyO3BhZGRpbmc6MTVweH1ib2R5e21hcmdpbjo3JSBhdXRvIDA7bWF4LXdpZHRoOjM5MHB4O21pbi1oZWlnaHQ6MTgwcHg7cGFkZGluZzozMHB4IDAgMTVweH0qID4gYm9keXtiYWNrZ3JvdW5kOnVybCgvL3d3dy5nb29nbGUuY29tL2ltYWdlcy9lcnJvcnMvcm9ib3QucG5nKSAxMDAlIDVweCBuby1yZXBlYXQ7cGFkZGluZy1yaWdodDoyMDVweH1we21hcmdpbjoxMXB4IDAgMjJweDtvdmVyZmxvdzpoaWRkZW59aW5ze2NvbG9yOiM3Nzc7dGV4dC1kZWNvcmF0aW9uOm5vbmV9YSBpbWd7Ym9yZGVyOjB9QG1lZGlhIHNjcmVlbiBhbmQgKG1heC13aWR0aDo3NzJweCl7Ym9keXtiYWNrZ3JvdW5kOm5vbmU7bWFyZ2luLXRvcDowO21heC13aWR0aDpub25lO3BhZGRpbmctcmlnaHQ6MH19I2xvZ297YmFja2dyb3VuZDp1cmwoLy93d3cuZ29vZ2xlLmNvbS9pbWFnZXMvbG9nb3MvZXJyb3JwYWdlL2Vycm9yX2xvZ28tMTUweDU0LnBuZykgbm8tcmVwZWF0O21hcmdpbi1sZWZ0Oi01cHh9QG1lZGlhIG9ubHkgc2NyZWVuIGFuZCAobWluLXJlc29sdXRpb246MTkyZHBpKXsjbG9nb3tiYWNrZ3JvdW5kOnVybCgvL3d3dy5nb29nbGUuY29tL2ltYWdlcy9sb2dvcy9lcnJvcnBhZ2UvZXJyb3JfbG9nby0xNTB4NTQtMngucG5nKSBuby1yZXBlYXQgMCUgMCUvMTAwJSAxMDAlOy1tb3otYm9yZGVyLWltYWdlOnVybCgvL3d3dy5nb29nbGUuY29tL2ltYWdlcy9sb2dvcy9lcnJvcnBhZ2UvZXJyb3JfbG9nby0xNTB4NTQtMngucG5nKSAwfX1AbWVkaWEgb25seSBzY3JlZW4gYW5kICgtd2Via2l0LW1pbi1kZXZpY2UtcGl4ZWwtcmF0aW86Mil7I2xvZ297YmFja2dyb3VuZDp1cmwoLy93d3cuZ29vZ2xlLmNvbS9pbWFnZXMvbG9nb3MvZXJyb3JwYWdlL2Vycm9yX2xvZ28tMTUweDU0LTJ4LnBuZykgbm8tcmVwZWF0Oy13ZWJraXQtYmFja2dyb3VuZC1zaXplOjEwMCUgMTAwJX19I2xvZ297ZGlzcGxheTppbmxpbmUtYmxvY2s7aGVpZ2h0OjU0cHg7d2lkdGg6MTUwcHh9CiAgPC9zdHlsZT4KICA8YSBocmVmPS8vd3d3Lmdvb2dsZS5jb20vPjxzcGFuIGlkPWxvZ28gYXJpYS1sYWJlbD1Hb29nbGU+PC9zcGFuPjwvYT4KICA8cD48Yj40MDQuPC9iPiA8aW5zPlRoYXTigJlzIGFuIGVycm9yLjwvaW5zPgogIDxwPiAgPGlucz5UaGF04oCZcyBhbGwgd2Uga25vdy48L2lucz4K",
              "ok": false,
              "headers": [
                [
                  "content-length",
                  "1449"
                ],
                [
                  "content-type",
                  "text/html; charset=utf-8"
                ]
              ],
              "status": 404,
              "status_text": ""
            }
          }
        },
        "outputId": "d47ab8ae-c254-4e4a-c5a5-b008580d06ab"
      },
      "outputs": [
        {
          "output_type": "execute_result",
          "data": {
            "text/plain": [
              "<IPython.core.display.HTML object>"
            ],
            "text/html": [
              "<video controls src=\"rendements.mp4\" type=\"video/mp4\">"
            ]
          },
          "metadata": {},
          "execution_count": 15
        },
        {
          "output_type": "display_data",
          "data": {
            "text/plain": [
              "<Figure size 1000x600 with 1 Axes>"
            ],
            "image/png": "[encoded data removed]"
          },
          "metadata": {}
        }
      ],
      "source": [
        "from matplotlib.animation import FuncAnimation\n",
        "from IPython.display import HTML\n",
        "import matplotlib.pyplot as plt\n",
        "import pandas as pd\n",
        "\n",
        "# Assurez-vous d'avoir un DataFrame df avec les colonnes 'Date', 'Rendement_Bitcoin', 'Rendement_gold', et 'Rendement_nvidia'\n",
        "\n",
        "# Préparer les données pour l'animation\n",
        "x_data = df['Date']\n",
        "y_data_bitcoin = df['Rendement_Bitcoin']\n",
        "y_data_gold = df['Rendement_gold']\n",
        "y_data_nvidia = df['Rendement_nvidia']\n",
        "\n",
        "# Calculer la période de six mois\n",
        "six_months = pd.Timedelta(days=30*6)\n",
        "end_initial_period = x_data.min() + six_months\n",
        "\n",
        "# Créer la figure et les axes\n",
        "fig, ax = plt.subplots(figsize=(10, 6))  # Ajuster la taille de la figure\n",
        "line_bitcoin, = ax.plot([], [], label='Bitcoin', lw=2, color='#f7931a')  # Couleur Bitcoin (orange)\n",
        "line_gold, = ax.plot([], [], label='Gold', lw=2, color='gold')  # Couleur Or\n",
        "line_nvidia, = ax.plot([], [], label='Nvidia', lw=2, color='green')  # Couleur Nvidia (vert)\n",
        "\n",
        "# Enlever les cadres en haut et à gauche\n",
        "ax.spines['top'].set_visible(False)\n",
        "ax.spines['right'].set_visible(False)\n",
        "\n",
        "# Créer les cercles pour représenter les marqueurs\n",
        "circle_bitcoin = plt.Circle((0, 0), 0.6, color='#f7931a', fill=True)  # Réduire la taille des cercles de moitié\n",
        "circle_gold = plt.Circle((0, 0), 0.6, color='gold', fill=True)\n",
        "circle_nvidia = plt.Circle((0, 0), 0.6, color='green', fill=True)\n",
        "\n",
        "# Ajouter les cercles aux axes\n",
        "ax.add_patch(circle_bitcoin)\n",
        "ax.add_patch(circle_gold)\n",
        "ax.add_patch(circle_nvidia)\n",
        "\n",
        "# Créer les annotations de pourcentage (initialisées vides)\n",
        "text_bitcoin = ax.text(0, 0, '', ha='left', va='center', color='#f7931a')  # Match color with line\n",
        "text_gold = ax.text(0, 0, '', ha='left', va='center', color='gold')\n",
        "text_nvidia = ax.text(0, 0, '', ha='left', va='center', color='green')\n",
        "\n",
        "# Créer l'annotation pour la date\n",
        "date_text = ax.text(0.02, 0.95, '', transform=ax.transAxes, ha='left', va='top', fontsize=12, color='black')\n",
        "\n",
        "# Initialiser la fonction pour la configuration de l'animation\n",
        "def init():\n",
        "    line_bitcoin.set_data([], [])\n",
        "    line_gold.set_data([], [])\n",
        "    line_nvidia.set_data([], [])\n",
        "    ax.set_xlim(x_data.min(), end_initial_period)  # Initialiser avec les six premiers mois\n",
        "    ax.set_ylim(min(y_data_bitcoin.min(), y_data_gold.min(), y_data_nvidia.min()) - 1,\n",
        "                max(y_data_bitcoin.max(), y_data_gold.max(), y_data_nvidia.max()) + 1)\n",
        "    date_text.set_text('')\n",
        "    return line_bitcoin, line_gold, line_nvidia, circle_bitcoin, circle_gold, circle_nvidia, text_bitcoin, text_gold, text_nvidia, date_text\n",
        "\n",
        "# Fonction pour mettre à jour l'animation\n",
        "def update(frame):\n",
        "    x = x_data[:frame]\n",
        "    y_bitcoin = y_data_bitcoin[:frame]\n",
        "    y_gold = y_data_gold[:frame]\n",
        "    y_nvidia = y_data_nvidia[:frame]\n",
        "\n",
        "    line_bitcoin.set_data(x, y_bitcoin)\n",
        "    line_gold.set_data(x, y_gold)\n",
        "    line_nvidia.set_data(x, y_nvidia)\n",
        "\n",
        "    if frame > 0:\n",
        "        circle_bitcoin.set_center((x[frame - 1], y_bitcoin[frame - 1]))\n",
        "        circle_gold.set_center((x[frame - 1], y_gold[frame - 1]))\n",
        "        circle_nvidia.set_center((x[frame - 1], y_nvidia[frame - 1]))\n",
        "\n",
        "        # Mettre à jour les annotations de valeurs à droite des cercles toutes les 4 frames\n",
        "        if frame % 5 == 0:\n",
        "            text_bitcoin.set_position((x[frame - 1] + pd.Timedelta(days=5), y_bitcoin[frame - 1]))\n",
        "            text_gold.set_position((x[frame - 1] + pd.Timedelta(days=5), y_gold[frame - 1]))\n",
        "            text_nvidia.set_position((x[frame - 1] + pd.Timedelta(days=5), y_nvidia[frame - 1]))\n",
        "\n",
        "            text_bitcoin.set_text(f'Bitcoin {y_bitcoin[frame-1]:.2f}%')\n",
        "            text_gold.set_text(f'Or {y_gold[frame-1]:.2f}%')\n",
        "            text_nvidia.set_text(f'Nvidia {y_nvidia[frame-1]:.2f}%')\n",
        "\n",
        "    # Mettre à jour le texte de la date\n",
        "    if len(x) > 0:\n",
        "        date_text.set_text(f'Date: {x[frame - 1].strftime(\"%Y-%m-%d\")}')\n",
        "        if x[frame - 1] > end_initial_period:\n",
        "            ax.set_xlim(x_data.min(), x_data[:frame].max() + pd.Timedelta(days=30))  # Ajouter une marge à droite après les six premiers mois\n",
        "        ax.set_ylim(min(y_bitcoin.min(), y_gold.min(), y_nvidia.min()) - 1,\n",
        "                    max(y_bitcoin.max(), y_gold.max(), y_nvidia.max()) + 1)\n",
        "    return line_bitcoin, line_gold, line_nvidia, circle_bitcoin, circle_gold, circle_nvidia, text_bitcoin, text_gold, text_nvidia, date_text\n",
        "\n",
        "# Créer l'animation avec des ajustements supplémentaires pour la fluidité\n",
        "ani = FuncAnimation(fig, update, frames=len(x_data), init_func=init, blit=True, interval=15, repeat=False)\n",
        "\n",
        "# Enregistrer l'animation en tant que fichier vidéo\n",
        "ani.save('rendements.mp4', writer='ffmpeg')\n",
        "\n",
        "# Afficher l'animation dans le notebook\n",
        "HTML('<video controls src=\"rendements.mp4\" type=\"video/mp4\">')\n"
      ]
    },
    {
      "cell_type": "code",
      "source": [
        "# Charger l'image de fond\n",
        "bg_image = mpimg.imread('/content/drive/MyDrive/Moneyradar/BG (1).png')\n",
        "\n",
        "# Créer la figure et les axes\n",
        "fig, ax = plt.subplots(figsize=(10, 6))  # Ajuster la taille de la figure\n",
        "\n",
        "# Afficher l'image de fond\n",
        "ax.imshow(bg_image, aspect='auto', extent=[x_data.min().value, x_data.max().value, y_data_bitcoin.min(), y_data_bitcoin.max()], alpha=1)\n"
      ],
      "metadata": {
        "id": "6NYyiVrNLbdb",
        "colab": {
          "base_uri": "https://localhost:8080/",
          "height": 218
        },
        "outputId": "c291f432-9a8e-40de-9996-c596174b208c"
      },
      "execution_count": 12,
      "outputs": [
        {
          "output_type": "error",
          "ename": "NameError",
          "evalue": "name 'mpimg' is not defined",
          "traceback": [
            "\u001b[0;31m---------------------------------------------------------------------------\u001b[0m",
            "\u001b[0;31mNameError\u001b[0m                                 Traceback (most recent call last)",
            "\u001b[0;32m<ipython-input-12-1f68cf5fba9e>\u001b[0m in \u001b[0;36m<cell line: 2>\u001b[0;34m()\u001b[0m\n\u001b[1;32m      1\u001b[0m \u001b[0;31m# Charger l'image de fond\u001b[0m\u001b[0;34m\u001b[0m\u001b[0;34m\u001b[0m\u001b[0m\n\u001b[0;32m----> 2\u001b[0;31m \u001b[0mbg_image\u001b[0m \u001b[0;34m=\u001b[0m \u001b[0mmpimg\u001b[0m\u001b[0;34m.\u001b[0m\u001b[0mimread\u001b[0m\u001b[0;34m(\u001b[0m\u001b[0;34m'/content/drive/MyDrive/Moneyradar/BG (1).png'\u001b[0m\u001b[0;34m)\u001b[0m\u001b[0;34m\u001b[0m\u001b[0;34m\u001b[0m\u001b[0m\n\u001b[0m\u001b[1;32m      3\u001b[0m \u001b[0;34m\u001b[0m\u001b[0m\n\u001b[1;32m      4\u001b[0m \u001b[0;31m# Créer la figure et les axes\u001b[0m\u001b[0;34m\u001b[0m\u001b[0;34m\u001b[0m\u001b[0m\n\u001b[1;32m      5\u001b[0m \u001b[0mfig\u001b[0m\u001b[0;34m,\u001b[0m \u001b[0max\u001b[0m \u001b[0;34m=\u001b[0m \u001b[0mplt\u001b[0m\u001b[0;34m.\u001b[0m\u001b[0msubplots\u001b[0m\u001b[0;34m(\u001b[0m\u001b[0mfigsize\u001b[0m\u001b[0;34m=\u001b[0m\u001b[0;34m(\u001b[0m\u001b[0;36m10\u001b[0m\u001b[0;34m,\u001b[0m \u001b[0;36m6\u001b[0m\u001b[0;34m)\u001b[0m\u001b[0;34m)\u001b[0m  \u001b[0;31m# Ajuster la taille de la figure\u001b[0m\u001b[0;34m\u001b[0m\u001b[0;34m\u001b[0m\u001b[0m\n",
            "\u001b[0;31mNameError\u001b[0m: name 'mpimg' is not defined"
          ]
        }
      ]
    },
    {
      "cell_type": "code",
      "source": [],
      "metadata": {
        "id": "7jYLvRR5TVlC"
      },
      "execution_count": null,
      "outputs": []
    },
    {
      "cell_type": "code",
      "source": [],
      "metadata": {
        "id": "VBw6bH72TGra"
      },
      "execution_count": null,
      "outputs": []
    }
  ],
  "metadata": {
    "colab": {
      "provenance": [],
      "gpuType": "T4",
      "mount_file_id": "1V8UR0FUlw74CjtWo3wF_ItpNZ4UrL4g8",
      "authorship_tag": "ABX9TyP9BUAfahx0EisClvV76smb",
      "include_colab_link": true
    },
    "kernelspec": {
      "display_name": "Python 3",
      "name": "python3"
    },
    "language_info": {
      "name": "python"
    },
    "accelerator": "GPU"
  },
  "nbformat": 4,
  "nbformat_minor": 0
}